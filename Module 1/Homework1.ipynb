{
 "cells": [
  {
   "cell_type": "markdown",
   "metadata": {},
   "source": [
    "Homework 1 in the DSA course from UC Berkeley"
   ]
  },
  {
   "cell_type": "code",
   "execution_count": 8,
   "metadata": {},
   "outputs": [],
   "source": [
    "import pandas as pd\n",
    "import random"
   ]
  },
  {
   "cell_type": "markdown",
   "metadata": {},
   "source": [
    "#Question 2 \n",
    "#For the following questions, use either Java, Python, C/C++.\n",
    "\n",
    "2. (20 points) Write code to populate an array with the size n with numbers from 0 to n-1. Afterwards, shuffle (randomly reorder or rearrange)  the numbers in the array.\n",
    "Do not use any built-in functions such as shuffle(). However, feel free to use the  built-in random() function.\n",
    "\n",
    "Examples:\n",
    "[0, 1, 2, 3] -> shuffled: [2, 0, 3, 1]\n",
    "[0, 1, 2, 3, 4, 5] -> shuffled: [5, 2, 4, 1, 3, 0]\n",
    "\n",
    "And finally, provide the Big O notation for both the average and worst case time complexities of your code\n",
    "#"
   ]
  },
  {
   "cell_type": "code",
   "execution_count": 13,
   "metadata": {},
   "outputs": [],
   "source": [
    "\n",
    "def shuffle_input(input_list):\n",
    "\n",
    "    return_list = []\n",
    "    while len(return_list) < len(input_list):\n",
    "\n",
    "        random_number = random.randint(min(input_list), max(input_list))\n",
    "        if random_number not in return_list:\n",
    "            return_list.append(random_number)\n",
    "\n",
    "\n",
    "    print(input_list)\n",
    "    print(return_list)\n"
   ]
  },
  {
   "cell_type": "code",
   "execution_count": 14,
   "metadata": {},
   "outputs": [
    {
     "name": "stdout",
     "output_type": "stream",
     "text": [
      "[1, 2, 3]\n",
      "[2, 3, 1]\n"
     ]
    }
   ],
   "source": [
    "shuffle_input([1,2,3])"
   ]
  },
  {
   "cell_type": "code",
   "execution_count": null,
   "metadata": {},
   "outputs": [],
   "source": [
    "#END"
   ]
  }
 ],
 "metadata": {
  "kernelspec": {
   "display_name": "LLM_sycophancy",
   "language": "python",
   "name": "python3"
  },
  "language_info": {
   "codemirror_mode": {
    "name": "ipython",
    "version": 3
   },
   "file_extension": ".py",
   "mimetype": "text/x-python",
   "name": "python",
   "nbconvert_exporter": "python",
   "pygments_lexer": "ipython3",
   "version": "3.9.17"
  }
 },
 "nbformat": 4,
 "nbformat_minor": 2
}
