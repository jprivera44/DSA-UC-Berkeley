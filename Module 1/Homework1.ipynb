{
 "cells": [
  {
   "cell_type": "markdown",
   "metadata": {},
   "source": [
    "Homework 1 in the DSA course from UC Berkeley"
   ]
  },
  {
   "cell_type": "code",
   "execution_count": 8,
   "metadata": {},
   "outputs": [],
   "source": [
    "import pandas as pd\n",
    "import random"
   ]
  },
  {
   "cell_type": "markdown",
   "metadata": {},
   "source": [
    "# Question 1"
   ]
  },
  {
   "cell_type": "markdown",
   "metadata": {},
   "source": [
    "1. (10 points) Write an example for each of the following. Avoid using examples that were already discussed in class. Examples do not necessarily have to be programming related:\n",
    "\n",
    "* O(1)\n",
    "- insertoin time?\n",
    "- reading from a node\n",
    "\n",
    "* O(log n)\n",
    "    * Binary search on a sorted array\n",
    "\n",
    "* O(n)\n",
    "    * An iteration through a single for loop going over all the items in the input.\n",
    "\n",
    "* O(n log n)\n",
    "    * Quick sort in the average case\n",
    "\n",
    "* O(n2)\n",
    "    * nested for loops in any program"
   ]
  },
  {
   "cell_type": "code",
   "execution_count": null,
   "metadata": {},
   "outputs": [],
   "source": []
  },
  {
   "cell_type": "markdown",
   "metadata": {},
   "source": [
    "# Question 2"
   ]
  },
  {
   "cell_type": "markdown",
   "metadata": {},
   "source": [
    "#Question 2 \n",
    "#For the following questions, use either Java, Python, C/C++.\n",
    "\n",
    "2. (20 points) Write code to populate an array with the size n with numbers from 0 to n-1. Afterwards, shuffle (randomly reorder or rearrange)  the numbers in the array.\n",
    "Do not use any built-in functions such as shuffle(). However, feel free to use the  built-in random() function.\n",
    "\n",
    "Examples:\n",
    "[0, 1, 2, 3] -> shuffled: [2, 0, 3, 1]\n",
    "[0, 1, 2, 3, 4, 5] -> shuffled: [5, 2, 4, 1, 3, 0]\n",
    "\n",
    "And finally, provide the Big O notation for both the average and worst case time complexities of your code\n",
    "#"
   ]
  },
  {
   "cell_type": "markdown",
   "metadata": {},
   "source": [
    "## My solution"
   ]
  },
  {
   "cell_type": "code",
   "execution_count": 13,
   "metadata": {},
   "outputs": [],
   "source": [
    "\n",
    "def shuffle_input(input_list):\n",
    "\n",
    "    return_list = []\n",
    "    while len(return_list) < len(input_list):\n",
    "\n",
    "        random_number = random.randint(min(input_list), max(input_list))\n",
    "        if random_number not in return_list:\n",
    "            return_list.append(random_number)\n",
    "\n",
    "\n",
    "    print(input_list)\n",
    "    print(return_list)\n"
   ]
  },
  {
   "cell_type": "code",
   "execution_count": 15,
   "metadata": {},
   "outputs": [
    {
     "name": "stdout",
     "output_type": "stream",
     "text": [
      "[0, 1, 2, 3, 4, 5]\n",
      "[1, 2, 0, 3, 5, 4]\n"
     ]
    }
   ],
   "source": [
    "shuffle_input([0,1,2,3,4,5])"
   ]
  },
  {
   "cell_type": "markdown",
   "metadata": {},
   "source": [
    "And finally, provide the Big O notation for both the average and worst case time complexities of your code\n",
    "\n",
    "\n",
    "Worst case:\n",
    "- O(n^2)\n",
    "\n",
    "\n",
    "Average case: \n",
    " - O(n)\n"
   ]
  },
  {
   "cell_type": "markdown",
   "metadata": {},
   "source": [
    "# Question 3"
   ]
  },
  {
   "cell_type": "markdown",
   "metadata": {},
   "source": [
    "3. (35 points) Write a function that accepts a sorted array of integers and a target value. The array may contain duplicate values. It should return the count of the number of occurrences of the target value.\n",
    "\n",
    "Examples:\n",
    "\n",
    "[0, 1, 2, 3, 3, 3, 3, 3, 3, 4, 4, 5] Target: 3, should return 6\n",
    "[1, 1, 2, 3, 3, 4, 5, 5, 5] Target: 5, should return 5\n",
    "[1, 1, 2, 3, 3, 4, 5, 5, 5] Target: 6, should return 0\n",
    "Full credit for a O(log n) solution and partial credit otherwise."
   ]
  },
  {
   "cell_type": "markdown",
   "metadata": {},
   "source": [
    "## My solution (currently brute force)"
   ]
  },
  {
   "cell_type": "code",
   "execution_count": 16,
   "metadata": {},
   "outputs": [],
   "source": []
  },
  {
   "cell_type": "code",
   "execution_count": null,
   "metadata": {},
   "outputs": [],
   "source": [
    "def count_in_list(input_list, target_value):\n",
    "    def find_leftmost_occurrence(input_list, target_value):\n",
    "        left = 0\n",
    "        right = len(input_list) - 1\n",
    "        while left <= right:\n",
    "            mid = (left + right) // 2\n",
    "            if input_list[mid] == target_value:\n",
    "                if mid == left or input_list[mid - 1] < target_value:\n",
    "                    return mid\n",
    "                right = mid - 1\n",
    "            elif input_list[mid] > target_value:\n",
    "                right = mid - 1\n",
    "            else:\n",
    "                left = mid + 1\n",
    "        return -1\n",
    "\n",
    "    def find_rightmost_occurrence(input_list, target_value):\n",
    "        left = 0\n",
    "        right = len(input_list) - 1\n",
    "        while left <= right:\n",
    "            mid = (left + right) // 2\n",
    "            if input_list[mid] == target_value:\n",
    "                if mid == right or input_list[mid + 1] > target_value:\n",
    "                    return mid\n",
    "                left = mid + 1\n",
    "            elif input_list[mid] > target_value:\n",
    "                right = mid - 1\n",
    "            else:\n",
    "                left = mid + 1\n",
    "        return -1\n",
    "\n",
    "    leftmost_index = find_leftmost_occurrence(input_list, target_value)\n",
    "    if leftmost_index == -1:\n",
    "        return 0\n",
    "    rightmost_index = find_rightmost_occurrence(input_list, target_value)\n",
    "    return rightmost_index - leftmost_index + 1"
   ]
  },
  {
   "cell_type": "code",
   "execution_count": 24,
   "metadata": {},
   "outputs": [
    {
     "name": "stdout",
     "output_type": "stream",
     "text": [
      "Test case 4 passed!\n"
     ]
    }
   ],
   "source": [
    "# Test case 4: Target value occurs only once in the list\n",
    "input_list4 = [1, 2, 3, 4, 5, 6, 7, 8, 9]\n",
    "target_value4 = 5\n",
    "expected_output4 = 1\n",
    "assert count_in_list(input_list4, target_value4) == expected_output4\n",
    "print(\"Test case 4 passed!\")"
   ]
  },
  {
   "cell_type": "markdown",
   "metadata": {},
   "source": [
    "# Question 4"
   ]
  },
  {
   "cell_type": "markdown",
   "metadata": {},
   "source": [
    "4. (35 points) Write a function that accepts a sorted, rotated array and returns the index of the largest value. Assume that the array is sorted in ascending order.\n",
    "\n",
    "A rotated array is an array that has had its elements shifted or rotated circularly to the left or right by a certain number of positions. This rotation does not change the elements themselves but changes their positions within the array.\n",
    "\n",
    "Examples:\n",
    "[1, 2, 3, 4, 5] -> [4, 5, 1, 2, 3] # max value index: 1 (value: 5)\n",
    "[0, 1, 3, 5, 7, 11] -> [5, 7, 11, 0, 1, 3] # max value index: 2 (value: 11)\n",
    "\n",
    "Full credit for a O(log n) solution and partial credit otherwise."
   ]
  },
  {
   "cell_type": "markdown",
   "metadata": {},
   "source": [
    "## My solution"
   ]
  },
  {
   "cell_type": "code",
   "execution_count": 21,
   "metadata": {},
   "outputs": [],
   "source": [
    "#I can check whether or not the next number is larger than the previous one\n",
    "#if it is, then you can check whether or not there is the larger value\n",
    "\n",
    "#creating the function to do this\n",
    "def largest_val(input_value):\n",
    "\n",
    "    prev_value = input_value[0]\n",
    "\n",
    "    for n in input_value:\n",
    "        if prev_value > n:\n",
    "            return prev_value\n",
    "\n",
    "        prev_value = n\n",
    "\n"
   ]
  },
  {
   "cell_type": "code",
   "execution_count": 23,
   "metadata": {},
   "outputs": [
    {
     "data": {
      "text/plain": [
       "11"
      ]
     },
     "execution_count": 23,
     "metadata": {},
     "output_type": "execute_result"
    }
   ],
   "source": [
    "#Testing question 4\n",
    "# I feel like the solution is decent but I'm not sure how good it is.\n",
    "input_value = [4, 5, 1, 2, 3]\n",
    "input_value = [5, 7, 11, 0, 1, 3]\n",
    "\n",
    "largest_val(input_value)\n",
    "\n"
   ]
  },
  {
   "cell_type": "markdown",
   "metadata": {},
   "source": [
    "# END"
   ]
  },
  {
   "cell_type": "code",
   "execution_count": null,
   "metadata": {},
   "outputs": [],
   "source": [
    "#END"
   ]
  }
 ],
 "metadata": {
  "kernelspec": {
   "display_name": "LLM_sycophancy",
   "language": "python",
   "name": "python3"
  },
  "language_info": {
   "codemirror_mode": {
    "name": "ipython",
    "version": 3
   },
   "file_extension": ".py",
   "mimetype": "text/x-python",
   "name": "python",
   "nbconvert_exporter": "python",
   "pygments_lexer": "ipython3",
   "version": "3.9.17"
  }
 },
 "nbformat": 4,
 "nbformat_minor": 2
}
