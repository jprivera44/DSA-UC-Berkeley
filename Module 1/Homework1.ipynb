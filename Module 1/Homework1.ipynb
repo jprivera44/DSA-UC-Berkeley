{
 "cells": [
  {
   "cell_type": "markdown",
   "metadata": {},
   "source": [
    "Homework 1 in the DSA course from UC Berkeley"
   ]
  },
  {
   "cell_type": "code",
   "execution_count": 8,
   "metadata": {},
   "outputs": [],
   "source": [
    "import pandas as pd\n",
    "import random"
   ]
  },
  {
   "cell_type": "markdown",
   "metadata": {},
   "source": [
    "# Question 1"
   ]
  },
  {
   "cell_type": "markdown",
   "metadata": {},
   "source": [
    "1. (10 points) Write an example for each of the following. Avoid using examples that were already discussed in class. Examples do not necessarily have to be programming related:\n",
    "\n",
    "* O(1)\n",
    "- insertoin time?\n",
    "- reading from a node\n",
    "\n",
    "* O(log n)\n",
    "    * \n",
    "\n",
    "* O(n)\n",
    "    * \n",
    "\n",
    "* O(n log n)\n",
    "    *\n",
    "\n",
    "* O(n2)\n",
    "    * nested for loops in any program"
   ]
  },
  {
   "cell_type": "code",
   "execution_count": null,
   "metadata": {},
   "outputs": [],
   "source": []
  },
  {
   "cell_type": "markdown",
   "metadata": {},
   "source": [
    "# Question 2"
   ]
  },
  {
   "cell_type": "markdown",
   "metadata": {},
   "source": [
    "## My solution"
   ]
  },
  {
   "cell_type": "markdown",
   "metadata": {},
   "source": [
    "#Question 2 \n",
    "#For the following questions, use either Java, Python, C/C++.\n",
    "\n",
    "2. (20 points) Write code to populate an array with the size n with numbers from 0 to n-1. Afterwards, shuffle (randomly reorder or rearrange)  the numbers in the array.\n",
    "Do not use any built-in functions such as shuffle(). However, feel free to use the  built-in random() function.\n",
    "\n",
    "Examples:\n",
    "[0, 1, 2, 3] -> shuffled: [2, 0, 3, 1]\n",
    "[0, 1, 2, 3, 4, 5] -> shuffled: [5, 2, 4, 1, 3, 0]\n",
    "\n",
    "And finally, provide the Big O notation for both the average and worst case time complexities of your code\n",
    "#"
   ]
  },
  {
   "cell_type": "code",
   "execution_count": 13,
   "metadata": {},
   "outputs": [],
   "source": [
    "\n",
    "def shuffle_input(input_list):\n",
    "\n",
    "    return_list = []\n",
    "    while len(return_list) < len(input_list):\n",
    "\n",
    "        random_number = random.randint(min(input_list), max(input_list))\n",
    "        if random_number not in return_list:\n",
    "            return_list.append(random_number)\n",
    "\n",
    "\n",
    "    print(input_list)\n",
    "    print(return_list)\n"
   ]
  },
  {
   "cell_type": "code",
   "execution_count": 15,
   "metadata": {},
   "outputs": [
    {
     "name": "stdout",
     "output_type": "stream",
     "text": [
      "[0, 1, 2, 3, 4, 5]\n",
      "[1, 2, 0, 3, 5, 4]\n"
     ]
    }
   ],
   "source": [
    "shuffle_input([0,1,2,3,4,5])"
   ]
  },
  {
   "cell_type": "markdown",
   "metadata": {},
   "source": [
    "And finally, provide the Big O notation for both the average and worst case time complexities of your code\n",
    "\n",
    "\n",
    "Worst case:\n",
    "- O(n^2)\n",
    "\n",
    "\n",
    "Average case: \n",
    " - O(n)\n",
    "\n",
    " Best case:"
   ]
  },
  {
   "cell_type": "markdown",
   "metadata": {},
   "source": [
    "## Better solution with help of LLMs"
   ]
  },
  {
   "cell_type": "markdown",
   "metadata": {},
   "source": [
    "# Question 3"
   ]
  },
  {
   "cell_type": "markdown",
   "metadata": {},
   "source": [
    "3. (35 points) Write a function that accepts a sorted array of integers and a target value. The array may contain duplicate values. It should return the count of the number of occurrences of the target value.\n",
    "\n",
    "Examples:\n",
    "\n",
    "[0, 1, 2, 3, 3, 3, 3, 3, 3, 4, 4, 5] Target: 3, should return 6\n",
    "[1, 1, 2, 3, 3, 4, 5, 5, 5] Target: 5, should return 5\n",
    "[1, 1, 2, 3, 3, 4, 5, 5, 5] Target: 6, should return 0\n",
    "Full credit for a O(log n) solution and partial credit otherwise."
   ]
  },
  {
   "cell_type": "markdown",
   "metadata": {},
   "source": [
    "## My solution (currently brute force)"
   ]
  },
  {
   "cell_type": "code",
   "execution_count": 16,
   "metadata": {},
   "outputs": [],
   "source": [
    "def count_in_list(input_list,target_value):\n",
    "\n",
    "    #how can I do this?\n",
    "    #ok brute force, is just to check every single one, and then you get a complexity of n\n",
    "    #maybe a better solution is to cut the problem in half, where I first sort and then figure out\n",
    "    #the best solutoin\n",
    "\n",
    "    total_count = 0\n",
    "\n",
    "    for n in input_list:\n",
    "        if n == target_value:\n",
    "            total_count+=1\n",
    "\n",
    "    return total_count\n"
   ]
  },
  {
   "cell_type": "code",
   "execution_count": 17,
   "metadata": {},
   "outputs": [
    {
     "data": {
      "text/plain": [
       "2"
      ]
     },
     "execution_count": 17,
     "metadata": {},
     "output_type": "execute_result"
    }
   ],
   "source": [
    "test_list = [0, 1, 2, 3, 3, 3, 3, 3, 3, 4, 4, 5] \n",
    "count_in_list(test_list,4)\n",
    "\n"
   ]
  },
  {
   "cell_type": "code",
   "execution_count": null,
   "metadata": {},
   "outputs": [],
   "source": []
  },
  {
   "cell_type": "markdown",
   "metadata": {},
   "source": [
    "# END"
   ]
  },
  {
   "cell_type": "code",
   "execution_count": null,
   "metadata": {},
   "outputs": [],
   "source": [
    "#END"
   ]
  }
 ],
 "metadata": {
  "kernelspec": {
   "display_name": "LLM_sycophancy",
   "language": "python",
   "name": "python3"
  },
  "language_info": {
   "codemirror_mode": {
    "name": "ipython",
    "version": 3
   },
   "file_extension": ".py",
   "mimetype": "text/x-python",
   "name": "python",
   "nbconvert_exporter": "python",
   "pygments_lexer": "ipython3",
   "version": "3.9.17"
  }
 },
 "nbformat": 4,
 "nbformat_minor": 2
}
